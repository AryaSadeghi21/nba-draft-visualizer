{
 "cells": [
  {
   "cell_type": "code",
   "execution_count": 1,
   "id": "8f51a2ca-fc83-4ab9-9436-9a42178fd287",
   "metadata": {},
   "outputs": [],
   "source": [
    "import pandas as pd\n",
    "import numpy as np\n",
    "import matplotlib.pyplot as plt\n",
    "from sklearn.metrics import mean_absolute_error\n",
    "from sklearn.linear_model import LinearRegression\n",
    "from sklearn.metrics import r2_score\n"
   ]
  },
  {
   "cell_type": "code",
   "execution_count": 2,
   "id": "454d4abd-90e5-4448-9ce4-74b3c4efb652",
   "metadata": {},
   "outputs": [],
   "source": [
    "training_data = pd.read_csv(\"cleaned_datasets/training_data.csv\")\n",
    "all_data = pd.read_csv(\"cleaned_datasets/all_data.csv\")\n"
   ]
  },
  {
   "cell_type": "code",
   "execution_count": 3,
   "id": "1762d0d8-f1d7-40a5-8a43-3823c0f20bc0",
   "metadata": {},
   "outputs": [],
   "source": [
    "features = [\"AGE\",\"GP\",\"MpG\",\"PpG\",\"RpG\",\"ApG\",\"SpG\",\"BpG\",\"TOpG\"]\n"
   ]
  },
  {
   "cell_type": "code",
   "execution_count": 4,
   "id": "bd7aca3e-65b1-4e1b-a015-9c326ce80a28",
   "metadata": {},
   "outputs": [],
   "source": [
    "X_train = training_data[features].copy()\n",
    "\n",
    "y_fppg = training_data[\"FPpG_next\"].copy()\n",
    "mask = y_fppg != 0"
   ]
  },
  {
   "cell_type": "code",
   "execution_count": 5,
   "id": "94d9e4c9-20c0-4346-8dd8-2c29c117dc7e",
   "metadata": {},
   "outputs": [],
   "source": [
    "fp_model = LinearRegression()\n",
    "fp_model.fit(X_train, y_fppg)\n",
    "y_pred = fp_model.predict(X_train)"
   ]
  },
  {
   "cell_type": "code",
   "execution_count": 6,
   "id": "b6e56471-646e-465e-8084-c5e3b49429a0",
   "metadata": {
    "scrolled": true
   },
   "outputs": [],
   "source": [
    "mae = mean_absolute_error(y_fppg[mask], y_pred[mask])\n",
    "r2_overall = r2_score(y_fppg, y_pred)\n",
    "r2_masked = r2_score(y_fppg[mask], y_pred[mask])"
   ]
  },
  {
   "cell_type": "code",
   "execution_count": 7,
   "id": "6655a644-dcdc-4120-8794-ee12be385261",
   "metadata": {},
   "outputs": [
    {
     "name": "stdout",
     "output_type": "stream",
     "text": [
      "Baseline MAE FPpG (masked): 4.226\n",
      "R² overall FPpG: 0.784\n",
      "R² masked FPpG: 0.784\n"
     ]
    }
   ],
   "source": [
    "print(f\"Baseline MAE FPpG (masked): {mae:.3f}\")\n",
    "print(f\"R² overall FPpG: {r2_overall:.3f}\")\n",
    "print(f\"R² masked FPpG: {r2_masked:.3f}\")\n"
   ]
  },
  {
   "cell_type": "code",
   "execution_count": 8,
   "id": "ff0ee123-fa36-4f9e-9915-4eb6e37d5ff8",
   "metadata": {},
   "outputs": [],
   "source": [
    "y_gp = training_data[\"GP_next\"].copy()\n",
    "gp_model = LinearRegression()\n",
    "gp_model.fit(X_train, y_gp)\n",
    "gp_pred_train = gp_model.predict(X_train)"
   ]
  },
  {
   "cell_type": "code",
   "execution_count": 11,
   "id": "43168760-146e-4f25-b859-b34394a5b8ca",
   "metadata": {},
   "outputs": [],
   "source": [
    "training_data[\"FP_total_pred_train\"] = y_pred * gp_pred_train\n",
    "training_data[\"GP_pred_train\"] = gp_pred_train"
   ]
  },
  {
   "cell_type": "code",
   "execution_count": 12,
   "id": "01c9ced0-c72d-4219-9989-1389d37d142e",
   "metadata": {},
   "outputs": [],
   "source": [
    "curr = all_data[all_data[\"SEASON\"] == 2024].copy()\n"
   ]
  },
  {
   "cell_type": "code",
   "execution_count": 13,
   "id": "97cabd27-1e7e-40dc-abba-2208df6e8dae",
   "metadata": {},
   "outputs": [],
   "source": [
    "X_curr = curr[features].copy()\n",
    "\n",
    "curr[\"FPpG_pred\"] = fp_model.predict(X_curr)\n",
    "curr[\"GP_pred\"]   = gp_model.predict(X_curr)\n",
    "\n",
    "# Clean up predictions\n",
    "curr[\"FPpG_pred\"] = curr[\"FPpG_pred\"].clip(lower=0)\n",
    "curr[\"GP_pred\"]   = curr[\"GP_pred\"].clip(lower=0, upper=82)\n",
    "\n",
    "curr[\"FP_total_pred\"] = curr[\"FPpG_pred\"] * curr[\"GP_pred\"]\n",
    "curr[\"SEASON\"] = 2025  # new target season\n",
    "\n",
    "out_cols = [\"NAME\",\"SEASON\",\"FPpG_pred\",\"GP_pred\",\"FP_total_pred\"]\n",
    "pred_2025 = curr[out_cols].sort_values(\"FP_total_pred\", ascending=False)\n",
    "\n",
    "pred_2025.to_csv(\"predictions/linear_pred_2025.csv\", index=False)"
   ]
  },
  {
   "cell_type": "code",
   "execution_count": 14,
   "id": "cf59d09a-9907-4336-93b6-0c59e52d1ebf",
   "metadata": {},
   "outputs": [
    {
     "name": "stdout",
     "output_type": "stream",
     "text": [
      "                         NAME  SEASON  FPpG_pred    GP_pred  FP_total_pred\n",
      "2109             NIKOLA JOKIC    2025  60.848211  72.432125    4407.365256\n",
      "2438  SHAI GILGEOUS-ALEXANDER    2025  54.841340  71.016584    3894.644623\n",
      "923     GIANNIS ANTETOKOUNMPO    2025  56.051779  68.478715    3838.353810\n",
      "1292             JAYSON TATUM    2025  46.701646  71.452670    3336.957318\n",
      "132           ANTHONY EDWARDS    2025  43.780959  71.132644    3114.255415\n",
      "303           CADE CUNNINGHAM    2025  48.263371  64.467324    3111.410385\n",
      "1548       KARL-ANTHONY TOWNS    2025  43.858683  70.518538    3092.850204\n",
      "1805              LUKA DONCIC    2025  50.224635  59.013986    2963.955902\n",
      "729          DOMANTAS SABONIS    2025  41.429572  71.120781    2946.503517\n",
      "2732        VICTOR WEMBANYAMA    2025  53.836598  54.281048    2922.306968\n",
      "85             ALPEREN SENGUN    2025  41.549097  70.282311    2920.166592\n",
      "2694        TYRESE HALIBURTON    2025  40.429283  71.735312    2900.207243\n",
      "688              DEVIN BOOKER    2025  40.278961  71.135009    2865.244266\n",
      "2609               TRAE YOUNG    2025  43.906914  64.894682    2849.325231\n",
      "127             ANTHONY DAVIS    2025  47.639890  59.307521    2825.403733\n",
      "2683              TYLER HERRO    2025  38.886443  72.215101    2808.188424\n",
      "1054              IVICA ZUBAC    2025  37.066115  75.057649    2782.095431\n",
      "1128            JALEN BRUNSON    2025  40.066702  66.876575    2679.523809\n",
      "174               BAM ADEBAYO    2025  36.982852  72.089172    2666.063169\n",
      "838               EVAN MOBLEY    2025  39.533424  67.046580    2650.580905\n"
     ]
    }
   ],
   "source": [
    "print(pred_2025.head(20))\n"
   ]
  },
  {
   "cell_type": "code",
   "execution_count": null,
   "id": "955b66f8-bbe6-406a-bd67-04210f4ff86f",
   "metadata": {},
   "outputs": [],
   "source": []
  },
  {
   "cell_type": "code",
   "execution_count": null,
   "id": "22c980ae-13ac-44cf-91ca-b000d40c3417",
   "metadata": {},
   "outputs": [],
   "source": []
  }
 ],
 "metadata": {
  "kernelspec": {
   "display_name": "Python (nba-env)",
   "language": "python",
   "name": "nba-env"
  },
  "language_info": {
   "codemirror_mode": {
    "name": "ipython",
    "version": 3
   },
   "file_extension": ".py",
   "mimetype": "text/x-python",
   "name": "python",
   "nbconvert_exporter": "python",
   "pygments_lexer": "ipython3",
   "version": "3.13.1"
  }
 },
 "nbformat": 4,
 "nbformat_minor": 5
}
