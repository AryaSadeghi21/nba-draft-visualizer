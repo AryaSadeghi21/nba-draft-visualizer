{
 "cells": [
  {
   "cell_type": "code",
   "execution_count": 131,
   "id": "72f26238-0873-4231-8224-78d72d73988c",
   "metadata": {},
   "outputs": [],
   "source": [
    "import numpy as np\n",
    "import pandas as pd"
   ]
  },
  {
   "cell_type": "code",
   "execution_count": 171,
   "id": "e11ad469-22b5-4fdc-b0a7-ebaa924ff427",
   "metadata": {},
   "outputs": [],
   "source": [
    "pd.set_option(\"display.max_columns\", None)\n",
    "pd.set_option(\"display.width\", 250)"
   ]
  },
  {
   "cell_type": "code",
   "execution_count": 133,
   "id": "a78c4df1-2ad2-49af-9659-fe0e080c2a3c",
   "metadata": {},
   "outputs": [],
   "source": [
    "data24 = pd.read_csv(\"datasets/2024-2025_data - Sheet1.csv\", header=1)\n",
    "data24 = data24.dropna(how=\"all\", axis=0)\n",
    "data24 = data24.dropna(how=\"all\", axis=1)"
   ]
  },
  {
   "cell_type": "code",
   "execution_count": 134,
   "id": "02663093-997f-497a-aac4-b89a10c54450",
   "metadata": {},
   "outputs": [
    {
     "name": "stdout",
     "output_type": "stream",
     "text": [
      "   RANK                     NAME TEAM  CUR  POS   AGE  GP   MpG  USG%   TO%  FTA    FT%   2PA    2P%  3PA    3P%   eFG%    TS%   PpG   RpG   ApG  SpG  BpG  TOpG   P+R   P+A  P+R+A    VI   ORtg  \\\n",
      "0     1  Shai Gilgeous-Alexander  Okc    *    G  26.8  76  34.2  34.8   9.9  669  0.898  1221  0.571  435  0.375  0.569  0.637  32.7   5.0   6.4  1.7  1.0   2.4  37.7  39.1   44.1  11.9  128.8   \n",
      "1     2    Giannis Antetokounmpo  Mil    *    F  30.4  67  34.2  35.2  13.5  707  0.617  1256  0.620   63  0.222  0.607  0.625  30.4  11.9   6.5  0.9  1.2   3.1  42.3  36.9   48.8  15.6  122.5   \n",
      "2     3             Nikola Jokic  Den    *    C  30.1  70  36.7  29.5  14.4  451  0.800  1033  0.627  330  0.418  0.627  0.663  29.6  12.7  10.2  1.8  0.6   3.3  42.3  39.8   52.6  17.1  132.9   \n",
      "3     4              Luka Doncic  Lal    *  F-G  26.1  28  35.1  34.5  15.7  249  0.791   290  0.493  269  0.379  0.530  0.590  28.2   8.1   7.5  1.6  0.4   3.7  36.3  35.7   43.8  13.6  115.8   \n",
      "4     5              Luka Doncic  Dal  NaN  F-G  26.1  22  35.7  33.2  13.9  146  0.767   254  0.555  212  0.354  0.544  0.584  28.1   8.3   7.8  2.0  0.4   3.4  36.5  36.0   44.3  13.7  115.3   \n",
      "\n",
      "    DRtg  \n",
      "0  106.0  \n",
      "1  105.3  \n",
      "2  108.0  \n",
      "3  107.5  \n",
      "4  108.1  \n"
     ]
    }
   ],
   "source": [
    "print(data24.head())"
   ]
  },
  {
   "cell_type": "code",
   "execution_count": 135,
   "id": "c033e41b-562e-4c48-8584-ffa41becbb2a",
   "metadata": {},
   "outputs": [],
   "source": [
    "keep = [\"NAME\",\"TEAM\",\"POS\",\"AGE\",\"GP\",\"MpG\",\"PpG\",\"RpG\",\"ApG\",\"SpG\",\"BpG\",\"TOpG\"]\n",
    "data24 = data24[keep]"
   ]
  },
  {
   "cell_type": "code",
   "execution_count": 136,
   "id": "4ba9379a-1621-4ee7-977d-9231ba17b776",
   "metadata": {},
   "outputs": [],
   "source": [
    "data24[\"FPpG\"] = (data24[\"PpG\"]*1+data24[\"RpG\"]*1.2+data24[\"ApG\"]*1.5+data24[\"SpG\"]*3+data24[\"BpG\"]*3-data24[\"TOpG\"])"
   ]
  },
  {
   "cell_type": "code",
   "execution_count": 137,
   "id": "3c58b2cd-0f34-45c3-8d62-0e0ff41aa6bc",
   "metadata": {},
   "outputs": [],
   "source": [
    "data24 = data24.sort_values(\"FPpG\", ascending=False)\n"
   ]
  },
  {
   "cell_type": "code",
   "execution_count": 138,
   "id": "5a7d668f-460c-44bb-b87c-45c557c37dab",
   "metadata": {},
   "outputs": [
    {
     "name": "stdout",
     "output_type": "stream",
     "text": [
      "                       NAME TEAM  POS   AGE  GP   MpG   PpG   RpG   ApG  SpG  BpG  TOpG   FPpG\n",
      "2              Nikola Jokic  Den    C  30.1  70  36.7  29.6  12.7  10.2  1.8  0.6   3.3  64.04\n",
      "1     Giannis Antetokounmpo  Mil    F  30.4  67  34.2  30.4  11.9   6.5  0.9  1.2   3.1  57.63\n",
      "22        Victor Wembanyama  San  F-C  21.3  46  33.2  24.3  11.0   3.7  1.1  3.8   3.2  54.55\n",
      "0   Shai Gilgeous-Alexander  Okc    G  26.8  76  34.2  32.7   5.0   6.4  1.7  1.0   2.4  54.00\n",
      "4               Luka Doncic  Dal  F-G  26.1  22  35.7  28.1   8.3   7.8  2.0  0.4   3.4  53.56\n",
      "12            Anthony Davis  Lal  F-C  32.1  42  34.3  25.7  11.9   3.4  1.3  2.1   2.2  53.08\n",
      "3               Luka Doncic  Lal  F-G  26.1  28  35.1  28.2   8.1   7.5  1.6  0.4   3.7  51.47\n",
      "6              Jayson Tatum  Bos  F-G  27.1  72  36.4  26.8   8.7   6.0  1.1  0.5   2.9  48.14\n",
      "9           Cade Cunningham  Det    G  23.6  70  35.0  26.1   6.1   9.1  1.0  0.8   4.4  48.07\n",
      "21             LeBron James  Lal    F  40.3  70  34.9  24.4   7.8   8.2  1.0  0.6   3.7  47.16\n",
      "20       Karl-Anthony Towns  Nyk  C-F  29.4  72  35.0  24.4  12.8   3.1  1.0  0.7   2.7  46.81\n",
      "60         Domantas Sabonis  Sac  F-C  28.9  70  34.7  19.1  13.9   6.0  0.7  0.4   2.9  45.18\n",
      "31             James Harden  Lac    G  35.6  79  35.3  22.8   5.8   8.7  1.5  0.7   4.3  45.11\n",
      "53            Anthony Davis  Dal  F-C  32.1   9  29.6  20.0  10.1   4.4  0.6  2.2   2.2  44.92\n",
      "24               Trae Young  Atl    G  26.6  76  36.0  24.2   3.1  11.6  1.2  0.2   4.7  44.82\n",
      "18          Zion Williamson  Nor    F  24.8  30  28.6  24.6   7.2   5.3  1.2  0.9   3.0  44.49\n",
      "8              Tyrese Maxey  Phi    G  24.4  52  37.7  26.3   3.3   6.1  1.8  0.4   2.4  43.61\n",
      "5           Anthony Edwards  Min    G  23.7  79  36.3  27.6   5.7   4.5  1.2  0.6   3.2  43.39\n",
      "65            Jalen Johnson  Atl    F  23.3  36  35.7  18.9  10.0   5.0  1.6  1.0   2.9  43.30\n",
      "11           Paolo Banchero  Orl    F  22.4  46  34.4  25.9   7.5   4.8  0.8  0.6   3.0  43.30\n"
     ]
    }
   ],
   "source": [
    "print(data24.head(20))"
   ]
  },
  {
   "cell_type": "code",
   "execution_count": 139,
   "id": "24783941-22f6-4a41-a4b3-7489f4c8eca8",
   "metadata": {},
   "outputs": [],
   "source": [
    "data23 = pd.read_csv(\"datasets/2023-2024_data - Sheet1.csv\", header = 0)\n",
    "data23 = data23.dropna(how=\"all\", axis=0)\n",
    "data23 = data23.dropna(how=\"all\", axis=1)"
   ]
  },
  {
   "cell_type": "code",
   "execution_count": 140,
   "id": "f36b9196-e9f0-4115-bfa2-5291a5862777",
   "metadata": {},
   "outputs": [],
   "source": [
    "data23 = data23[keep]\n",
    "data23[\"FPpG\"] = (data23[\"PpG\"]*1+data23[\"RpG\"]*1.2+data23[\"ApG\"]*1.5+data23[\"SpG\"]*3+data23[\"BpG\"]*3-data23[\"TOpG\"])\n",
    "data23 = data23.sort_values(\"FPpG\", ascending=False)\n"
   ]
  },
  {
   "cell_type": "code",
   "execution_count": 141,
   "id": "7307ebd8-02b4-4aa1-901b-0e5abb0875b8",
   "metadata": {},
   "outputs": [
    {
     "name": "stdout",
     "output_type": "stream",
     "text": [
      "                     NAME TEAM POS   AGE  GP   MpG   PpG   RpG  ApG  SpG  BpG  TOpG   FPpG\n",
      "1             Luka Doncic  Dal   G  25.1  70  37.5  33.9   9.2  9.8  1.4  0.5   4.0  61.34\n",
      "0             Joel Embiid  Phi   C  30.1  39  33.6  34.7  11.0  5.6  1.2  1.7   3.8  61.20\n",
      "10           Nikola Jokic  Den   C  29.2  79  34.6  26.4  12.4  9.0  1.4  0.9   3.0  58.68\n",
      "2   Giannis Antetokounmpo  Mil   F  29.4  73  35.2  30.4  11.5  6.5  1.2  1.1   3.4  57.45\n",
      "18          Anthony Davis  Lal   C  31.1  76  35.5  24.7  12.6  3.5  1.2  2.3   2.1  53.47\n"
     ]
    }
   ],
   "source": [
    "print(data23.head())"
   ]
  },
  {
   "cell_type": "code",
   "execution_count": 142,
   "id": "a388dc12-a4b1-4e89-9998-8ae778792fd2",
   "metadata": {},
   "outputs": [],
   "source": [
    "data22 = pd.read_csv(\"datasets/2022-2023_data - Sheet1.csv\", header = 0)\n",
    "data22 = data22.dropna(how=\"all\", axis=0)\n",
    "data22 = data22.dropna(how=\"all\", axis=1)"
   ]
  },
  {
   "cell_type": "code",
   "execution_count": 143,
   "id": "04d8136e-d5b4-4624-87d0-44cf94dfd402",
   "metadata": {},
   "outputs": [],
   "source": [
    "data22 = data22[keep]\n",
    "data22[\"FPpG\"] = (data22[\"PpG\"]*1+data22[\"RpG\"]*1.2+data22[\"ApG\"]*1.5+data23[\"SpG\"]*3+data22[\"BpG\"]*3-data22[\"TOpG\"])\n",
    "data22 = data22.sort_values(\"FPpG\", ascending=False)\n"
   ]
  },
  {
   "cell_type": "code",
   "execution_count": 144,
   "id": "2680053d-9a85-42a5-b19d-8762282374cf",
   "metadata": {},
   "outputs": [
    {
     "name": "stdout",
     "output_type": "stream",
     "text": [
      "                     NAME TEAM  POS   AGE  GP   MpG   PpG   RpG  ApG  SpG  BpG  TOpG   FPpG\n",
      "0             Joel Embiid  Phi  C-F  29.1  66  34.6  33.1  10.2  4.2  1.0  1.7   3.4  56.94\n",
      "1             Luka Doncic  Dal  F-G  24.1  66  36.2  32.4   8.6  8.0  1.4  0.5   3.6  56.82\n",
      "26           Nikola Jokic  Den    C  28.1  69  33.7  24.5  11.8  9.8  1.3  0.7   3.6  55.16\n",
      "4   Giannis Antetokounmpo  Mil    F  28.3  63  32.1  31.1  11.8  5.7  0.8  0.8   3.9  55.01\n",
      "8            LeBron James  Lal    F  38.3  55  35.5  28.9   8.3  6.8  0.9  0.6   3.2  53.06\n"
     ]
    }
   ],
   "source": [
    "print(data22.head())"
   ]
  },
  {
   "cell_type": "code",
   "execution_count": 145,
   "id": "efb64764-2896-41c0-bab9-a5dc7f2b5fc5",
   "metadata": {},
   "outputs": [],
   "source": [
    "data21 = pd.read_csv(\"datasets/2021-2022_data - Sheet1.csv\", header = 0)\n",
    "data21 = data21.dropna(how=\"all\", axis=0)\n",
    "data21 = data21.dropna(how=\"all\", axis=1)"
   ]
  },
  {
   "cell_type": "code",
   "execution_count": 146,
   "id": "05a55643-255f-4bff-bf15-909d730e8c70",
   "metadata": {},
   "outputs": [],
   "source": [
    "data21 = data21[keep]\n",
    "data21[\"FPpG\"] = (data21[\"PpG\"]*1+data21[\"RpG\"]*1.2+data21[\"ApG\"]*1.5+data21[\"SpG\"]*3+data21[\"BpG\"]*3-data21[\"TOpG\"])\n",
    "data21 = data21.sort_values(\"FPpG\", ascending=False)\n"
   ]
  },
  {
   "cell_type": "code",
   "execution_count": 147,
   "id": "335e21df-08c5-4a51-8807-55f114853efa",
   "metadata": {},
   "outputs": [
    {
     "name": "stdout",
     "output_type": "stream",
     "text": [
      "                      NAME TEAM  POS    AGE  GP   MpG   PpG   RpG  ApG   SpG   BpG  TOpG   FPpG\n",
      "343           Nikola Jokic  Den    C  27.14  74  33.5  27.1  13.8  7.9  1.47  0.86  3.78  58.72\n",
      "13   Giannis Antetokounmpo  Mil    F  27.35  67  32.9  29.9  11.6  5.8  1.07  1.36  3.27  56.54\n",
      "184            Joel Embiid  Phi  C-F  28.07  68  33.8  30.6  11.7  4.2  1.13  1.47  3.15  55.59\n",
      "323           LeBron James  Lal    F  37.28  56  37.2  30.3   8.2  6.2  1.30  1.05  3.50  52.99\n",
      "159            Luka Doncic  Dal  F-G  23.12  65  35.4  28.4   9.1  8.7  1.15  0.55  4.49  52.98\n"
     ]
    }
   ],
   "source": [
    "print(data21.head())"
   ]
  },
  {
   "cell_type": "code",
   "execution_count": 148,
   "id": "459b61e3-451b-4701-80cc-7dcd5c7f396d",
   "metadata": {},
   "outputs": [],
   "source": [
    "data20 = pd.read_csv(\"datasets/2020-2021_data - Sheet1.csv\", header = 0)\n",
    "data20 = data20.dropna(how=\"all\", axis=0)\n",
    "data20 = data20.dropna(how=\"all\", axis=1)"
   ]
  },
  {
   "cell_type": "code",
   "execution_count": 149,
   "id": "e3e0e225-e3be-487b-b15a-3db3105de76b",
   "metadata": {},
   "outputs": [],
   "source": [
    "data20 = data20[keep]\n",
    "data20[\"FPpG\"] = (data20[\"PpG\"]*1+data20[\"RpG\"]*1.2+data20[\"ApG\"]*1.5+data20[\"SpG\"]*3+data20[\"BpG\"]*3-data20[\"TOpG\"])\n",
    "data20 = data20.sort_values(\"FPpG\", ascending=False)\n"
   ]
  },
  {
   "cell_type": "code",
   "execution_count": 150,
   "id": "3e3dcafd-e88e-4124-8662-f242ad475f40",
   "metadata": {},
   "outputs": [
    {
     "name": "stdout",
     "output_type": "stream",
     "text": [
      "                      NAME TEAM  POS    AGE  GP   MpG   PpG   RpG   ApG   SpG   BpG  TOpG   FPpG\n",
      "303           Nikola Jokic  Den    C  26.24  72  34.6  26.4  10.8   8.3  1.32  0.67  3.08  54.70\n",
      "14   Giannis Antetokounmpo  Mil    F  26.44  61  33.0  28.1  11.0   5.9  1.18  1.21  3.39  53.93\n",
      "599      Russell Westbrook  Was    G  32.51  65  36.4  22.2  11.5  11.7  1.35  0.35  4.80  53.85\n",
      "230           James Harden  Bro    G  31.72  36  36.6  24.6   8.6  10.9  1.28  0.75  3.97  53.39\n",
      "151            Luka Doncic  Dal  F-G  22.21  66  34.3  27.7   8.0   8.6  0.97  0.55  4.26  50.50\n"
     ]
    }
   ],
   "source": [
    "print(data20.head())"
   ]
  },
  {
   "cell_type": "code",
   "execution_count": 185,
   "id": "3e63ca5f-1460-4e4f-a03d-e51e8255e353",
   "metadata": {},
   "outputs": [],
   "source": [
    "data24[\"SEASON\"] = 2024\n",
    "data23[\"SEASON\"] = 2023\n",
    "data22[\"SEASON\"] = 2022\n",
    "data21[\"SEASON\"] = 2021\n",
    "data20[\"SEASON\"] = 2020\n",
    "all_data = pd.concat([data24, data23, data22, data21, data20])\n",
    "\n"
   ]
  },
  {
   "cell_type": "code",
   "execution_count": 186,
   "id": "817fa7e7-21b1-4ef2-8705-6b40dc2f28f0",
   "metadata": {},
   "outputs": [],
   "source": [
    "def clean_name(name):\n",
    "    # Uppercase\n",
    "    name = name.upper()\n",
    "    # Remove periods\n",
    "    name = name.replace(\".\", \"\")\n",
    "    # Collapse multiple spaces\n",
    "    name = \" \".join(name.split())\n",
    "    return name\n",
    "\n",
    "for df in [data24, data23, data22, data21, data20]:\n",
    "    df[\"NAME\"] = df[\"NAME\"].apply(clean_name)"
   ]
  },
  {
   "cell_type": "code",
   "execution_count": 187,
   "id": "48cd9617-c800-43d0-9ed2-1cd4eb60c1be",
   "metadata": {},
   "outputs": [],
   "source": [
    "# Collapse to one row per player-season (weighted by GP)\n",
    "def agg_player_season(df):\n",
    "    w = df['GP']\n",
    "    out = {\n",
    "        'AGE': (df['AGE'] * w).sum() / w.sum(),\n",
    "        'GP': w.sum(),\n",
    "        'TEAM': df.iloc[-1]['TEAM'],   # keep last team seen\n",
    "        'POS': df.iloc[-1]['POS'],     # keep last pos seen\n",
    "    }\n",
    "    for c in ['MpG','PpG','RpG','ApG','SpG','BpG','TOpG','FPpG']:\n",
    "        out[c] = (df[c] * w).sum() / w.sum()\n",
    "    return pd.Series(out)\n",
    "\n",
    "all_data = (\n",
    "    pd.concat([data24, data23, data22, data21, data20])\n",
    "      .sort_values(['NAME','SEASON','GP'])\n",
    "      .groupby(['NAME','SEASON'], as_index=False)\n",
    "      .apply(agg_player_season, include_groups=False)\n",
    "      .reset_index(drop=True)\n",
    ")\n"
   ]
  },
  {
   "cell_type": "code",
   "execution_count": 232,
   "id": "c72134fb-ce27-4124-b85d-771999977954",
   "metadata": {},
   "outputs": [],
   "source": [
    "# FPpG_next\n",
    "training_data = all_data.sort_values([\"NAME\", \"SEASON\"])\n",
    "training_data[\"FPpG_next\"] = training_data.groupby(\"NAME\")[\"FPpG\"].shift(-1)\n",
    "training_data[\"GP_next\"] = training_data.groupby(\"NAME\")[\"GP\"].shift(-1)\n",
    "training_data = training_data.dropna(subset=[\"FPpG_next\"])\n",
    "training_data = training_data.dropna(subset=[\"GP_next\"])\n",
    "training_data[\"FP_total\"] = training_data[\"FPpG\"] * training_data[\"GP\"]\n",
    "training_data[\"FP_total_next\"] = training_data[\"FPpG_next\"] * training_data[\"GP_next\"]\n"
   ]
  },
  {
   "cell_type": "code",
   "execution_count": 233,
   "id": "47cbfbd9-ad03-4e4d-8801-e11e970f25ca",
   "metadata": {},
   "outputs": [
    {
     "name": "stdout",
     "output_type": "stream",
     "text": [
      "             NAME  SEASON    AGE  GP TEAM  POS        MpG        PpG       RpG      ApG       SpG       BpG      TOpG   FPpG\n",
      "0    AARON GORDON    2020  25.67  50  Den    F  27.650000  12.400000  5.650000  3.20000  0.660000  0.680000  1.920000  26.08\n",
      "1    AARON GORDON    2021  26.57  75  Den    F  31.700000  15.000000  5.800000  2.50000  0.590000  0.590000  1.770000  27.48\n",
      "2    AARON GORDON    2022  27.60  68  Den    F  30.300000  16.300000  6.600000  3.00000  0.800000  0.800000  1.400000  32.12\n",
      "3    AARON GORDON    2023  28.60  73  Den    F  31.500000  13.900000  6.400000  3.50000  0.800000  0.600000  1.400000  29.63\n",
      "4    AARON GORDON    2024  29.60  51  Den    F  28.400000  14.700000  4.800000  3.20000  0.500000  0.300000  1.400000  26.26\n",
      "5     AARON HENRY    2021  22.61   6  Phi    F   2.800000   0.300000  0.200000  0.00000  0.000000  0.330000  0.330000   1.20\n",
      "6   AARON HOLIDAY    2020  24.63  66  Ind    G  17.800000   7.200000  1.300000  1.90000  0.700000  0.200000  1.000000  13.31\n",
      "7   AARON HOLIDAY    2021  25.53  63  Was    G  16.234921   6.344444  1.914286  2.42381  0.670317  0.143175  1.047778  13.67\n",
      "8   AARON HOLIDAY    2022  26.50  63  Atl    G  13.400000   3.900000  1.200000  1.40000  0.600000  0.200000  0.600000   8.34\n",
      "9   AARON HOLIDAY    2023  27.50  78  Hou    G  16.300000   6.600000  1.600000  1.80000  0.500000  0.100000  0.700000  12.32\n",
      "10  AARON HOLIDAY    2024  28.50  62  Hou    G  12.800000   5.500000  1.300000  1.30000  0.300000  0.200000  0.600000   9.91\n",
      "11  AARON NESMITH    2020  21.58  46  Bos  G-F  14.500000   4.700000  2.800000  0.50000  0.330000  0.200000  0.500000   9.90\n",
      "12  AARON NESMITH    2021  22.49  52  Bos  G-F  11.000000   3.800000  1.700000  0.40000  0.380000  0.080000  0.600000   7.22\n",
      "13  AARON NESMITH    2022  23.50  73  Ind  G-F  24.900000  10.100000  3.800000  1.30000  0.800000  0.500000  1.000000  21.01\n",
      "14  AARON NESMITH    2023  24.50  72  Ind  G-F  27.700000  12.200000  3.800000  1.50000  0.900000  0.700000  0.900000  22.91\n",
      "15  AARON NESMITH    2024  25.50  45  Ind  G-F  25.000000  12.000000  4.000000  1.20000  0.800000  0.400000  0.800000  21.40\n",
      "16  AARON WIGGINS    2021  23.27  50  Okc  G-F  24.200000   8.300000  3.600000  1.40000  0.600000  0.200000  1.080000  16.04\n",
      "17  AARON WIGGINS    2022  24.30  70  Okc  G-F  18.500000   6.800000  3.000000  1.10000  0.600000  0.200000  0.800000  12.75\n",
      "18  AARON WIGGINS    2023  25.30  78  Okc    G  15.700000   6.900000  2.400000  1.10000  0.700000  0.200000  0.700000  13.43\n",
      "19  AARON WIGGINS    2024  26.30  76  Okc    G  22.900000  12.000000  3.900000  1.80000  0.800000  0.200000  0.900000  21.48\n"
     ]
    }
   ],
   "source": [
    "print(all_data.head(20))"
   ]
  },
  {
   "cell_type": "code",
   "execution_count": 234,
   "id": "e2cbf822-7257-4037-b27c-2138fa33a793",
   "metadata": {},
   "outputs": [
    {
     "name": "stdout",
     "output_type": "stream",
     "text": [
      "                 NAME  SEASON    AGE  GP TEAM  POS        MpG        PpG       RpG      ApG       SpG       BpG      TOpG   FPpG  FPpG_next  GP_next  FP_total  FP_total_next\n",
      "0        AARON GORDON    2020  25.67  50  Den    F  27.650000  12.400000  5.650000  3.20000  0.660000  0.680000  1.920000  26.08      27.48     75.0   1304.00        2061.00\n",
      "1        AARON GORDON    2021  26.57  75  Den    F  31.700000  15.000000  5.800000  2.50000  0.590000  0.590000  1.770000  27.48      32.12     68.0   2061.00        2184.16\n",
      "2        AARON GORDON    2022  27.60  68  Den    F  30.300000  16.300000  6.600000  3.00000  0.800000  0.800000  1.400000  32.12      29.63     73.0   2184.16        2162.99\n",
      "3        AARON GORDON    2023  28.60  73  Den    F  31.500000  13.900000  6.400000  3.50000  0.800000  0.600000  1.400000  29.63      26.26     51.0   2162.99        1339.26\n",
      "6       AARON HOLIDAY    2020  24.63  66  Ind    G  17.800000   7.200000  1.300000  1.90000  0.700000  0.200000  1.000000  13.31      13.67     63.0    878.46         861.21\n",
      "7       AARON HOLIDAY    2021  25.53  63  Was    G  16.234921   6.344444  1.914286  2.42381  0.670317  0.143175  1.047778  13.67       8.34     63.0    861.21         525.42\n",
      "8       AARON HOLIDAY    2022  26.50  63  Atl    G  13.400000   3.900000  1.200000  1.40000  0.600000  0.200000  0.600000   8.34      12.32     78.0    525.42         960.96\n",
      "9       AARON HOLIDAY    2023  27.50  78  Hou    G  16.300000   6.600000  1.600000  1.80000  0.500000  0.100000  0.700000  12.32       9.91     62.0    960.96         614.42\n",
      "11      AARON NESMITH    2020  21.58  46  Bos  G-F  14.500000   4.700000  2.800000  0.50000  0.330000  0.200000  0.500000   9.90       7.22     52.0    455.40         375.44\n",
      "12      AARON NESMITH    2021  22.49  52  Bos  G-F  11.000000   3.800000  1.700000  0.40000  0.380000  0.080000  0.600000   7.22      21.01     73.0    375.44        1533.73\n",
      "13      AARON NESMITH    2022  23.50  73  Ind  G-F  24.900000  10.100000  3.800000  1.30000  0.800000  0.500000  1.000000  21.01      22.91     72.0   1533.73        1649.52\n",
      "14      AARON NESMITH    2023  24.50  72  Ind  G-F  27.700000  12.200000  3.800000  1.50000  0.900000  0.700000  0.900000  22.91      21.40     45.0   1649.52         963.00\n",
      "16      AARON WIGGINS    2021  23.27  50  Okc  G-F  24.200000   8.300000  3.600000  1.40000  0.600000  0.200000  1.080000  16.04      12.75     70.0    802.00         892.50\n",
      "17      AARON WIGGINS    2022  24.30  70  Okc  G-F  18.500000   6.800000  3.000000  1.10000  0.600000  0.200000  0.800000  12.75      13.43     78.0    892.50        1047.54\n",
      "18      AARON WIGGINS    2023  25.30  78  Okc    G  15.700000   6.900000  2.400000  1.10000  0.700000  0.200000  0.700000  13.43      21.48     76.0   1047.54        1632.48\n",
      "20        ABDEL NADER    2020  27.64  24  Pho    F  14.800000   6.700000  2.600000  0.80000  0.420000  0.380000  0.790000  12.63       7.22     14.0    303.12         101.08\n",
      "22       ADAM FLAGLER    2023  24.40   2  Okc    G   7.000000   1.500000  0.000000  2.00000  0.000000  0.000000  0.000000   4.50       3.89     37.0      9.00         143.93\n",
      "25       ADAMA SANOGO    2023  22.20   9  Chi    F   7.300000   4.000000  4.000000  0.00000  0.100000  0.000000  0.600000   8.50       3.95      4.0     76.50          15.80\n",
      "29  ADMIRAL SCHOFIELD    2021  25.03  38  Orl    F  12.300000   3.800000  2.300000  0.70000  0.110000  0.130000  0.550000   7.78       7.94     37.0    295.64         293.78\n",
      "30  ADMIRAL SCHOFIELD    2022  26.00  37  Orl    F  12.200000   4.200000  1.700000  0.80000  0.200000  0.100000  0.400000   7.94       2.19     23.0    293.78          50.37\n"
     ]
    }
   ],
   "source": [
    "print(training_data.head(20))"
   ]
  },
  {
   "cell_type": "code",
   "execution_count": 235,
   "id": "16949e36-a6ae-4df2-af9c-5f7585f98a77",
   "metadata": {},
   "outputs": [],
   "source": [
    "all_data.to_csv(\"cleaned_datasets/all_data.csv\", index=False)\n",
    "training_data.to_csv(\"cleaned_datasets/training_data.csv\", index=False)\n"
   ]
  },
  {
   "cell_type": "code",
   "execution_count": null,
   "id": "9dbe6ecf-2bcb-49a7-a94e-9a9f8979247d",
   "metadata": {},
   "outputs": [],
   "source": []
  }
 ],
 "metadata": {
  "kernelspec": {
   "display_name": "Python (nba-env)",
   "language": "python",
   "name": "nba-env"
  },
  "language_info": {
   "codemirror_mode": {
    "name": "ipython",
    "version": 3
   },
   "file_extension": ".py",
   "mimetype": "text/x-python",
   "name": "python",
   "nbconvert_exporter": "python",
   "pygments_lexer": "ipython3",
   "version": "3.13.1"
  }
 },
 "nbformat": 4,
 "nbformat_minor": 5
}
